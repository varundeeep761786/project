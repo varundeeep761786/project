{
  "nbformat": 4,
  "nbformat_minor": 0,
  "metadata": {
    "colab": {
      "name": "Task_2.ipynb",
      "provenance": [],
      "collapsed_sections": []
    },
    "kernelspec": {
      "name": "python3",
      "display_name": "Python 3"
    },
    "language_info": {
      "name": "python"
    }
  },
  "cells": [
    {
      "cell_type": "markdown",
      "metadata": {
        "id": "q2GjOZuL9BmO"
      },
      "source": [
        "## LGMVIP - DataScience\n",
        "### Beginner Level Task\n",
        "##### **Task 2:** Stock Market Prediction and Forecasting using Stacked LSTM\n",
        "##### **Author:** Om Kolte\n",
        "---"
      ]
    },
    {
      "cell_type": "code",
      "metadata": {
        "id": "WTSEGfp380W5"
      },
      "source": [
        "import pandas_datareader as pdr\n",
        "import tensorflow as tf\n",
        "import pandas as pd"
      ],
      "execution_count": null,
      "outputs": []
    },
    {
      "cell_type": "markdown",
      "metadata": {
        "id": "mnrYzxVoiXc_"
      },
      "source": [
        "### **Loading the Dataset**"
      ]
    },
    {
      "cell_type": "code",
      "metadata": {
        "id": "6W_18fbi9ext",
        "colab": {
          "base_uri": "https://localhost:8080/",
          "height": 206
        },
        "outputId": "560a21f3-b4a9-4363-b0e8-9276d8c777aa"
      },
      "source": [
        "df = pd.read_csv('/content/drive/MyDrive/DataSets/NSE-TATAGLOBAL.csv')\n",
        "df.head()"
      ],
      "execution_count": null,
      "outputs": [
        {
          "output_type": "execute_result",
          "data": {
            "text/html": [
              "<div>\n",
              "<style scoped>\n",
              "    .dataframe tbody tr th:only-of-type {\n",
              "        vertical-align: middle;\n",
              "    }\n",
              "\n",
              "    .dataframe tbody tr th {\n",
              "        vertical-align: top;\n",
              "    }\n",
              "\n",
              "    .dataframe thead th {\n",
              "        text-align: right;\n",
              "    }\n",
              "</style>\n",
              "<table border=\"1\" class=\"dataframe\">\n",
              "  <thead>\n",
              "    <tr style=\"text-align: right;\">\n",
              "      <th></th>\n",
              "      <th>Date</th>\n",
              "      <th>Open</th>\n",
              "      <th>High</th>\n",
              "      <th>Low</th>\n",
              "      <th>Last</th>\n",
              "      <th>Close</th>\n",
              "      <th>Total Trade Quantity</th>\n",
              "      <th>Turnover (Lacs)</th>\n",
              "    </tr>\n",
              "  </thead>\n",
              "  <tbody>\n",
              "    <tr>\n",
              "      <th>0</th>\n",
              "      <td>2018-09-28</td>\n",
              "      <td>234.05</td>\n",
              "      <td>235.95</td>\n",
              "      <td>230.20</td>\n",
              "      <td>233.50</td>\n",
              "      <td>233.75</td>\n",
              "      <td>3069914</td>\n",
              "      <td>7162.35</td>\n",
              "    </tr>\n",
              "    <tr>\n",
              "      <th>1</th>\n",
              "      <td>2018-09-27</td>\n",
              "      <td>234.55</td>\n",
              "      <td>236.80</td>\n",
              "      <td>231.10</td>\n",
              "      <td>233.80</td>\n",
              "      <td>233.25</td>\n",
              "      <td>5082859</td>\n",
              "      <td>11859.95</td>\n",
              "    </tr>\n",
              "    <tr>\n",
              "      <th>2</th>\n",
              "      <td>2018-09-26</td>\n",
              "      <td>240.00</td>\n",
              "      <td>240.00</td>\n",
              "      <td>232.50</td>\n",
              "      <td>235.00</td>\n",
              "      <td>234.25</td>\n",
              "      <td>2240909</td>\n",
              "      <td>5248.60</td>\n",
              "    </tr>\n",
              "    <tr>\n",
              "      <th>3</th>\n",
              "      <td>2018-09-25</td>\n",
              "      <td>233.30</td>\n",
              "      <td>236.75</td>\n",
              "      <td>232.00</td>\n",
              "      <td>236.25</td>\n",
              "      <td>236.10</td>\n",
              "      <td>2349368</td>\n",
              "      <td>5503.90</td>\n",
              "    </tr>\n",
              "    <tr>\n",
              "      <th>4</th>\n",
              "      <td>2018-09-24</td>\n",
              "      <td>233.55</td>\n",
              "      <td>239.20</td>\n",
              "      <td>230.75</td>\n",
              "      <td>234.00</td>\n",
              "      <td>233.30</td>\n",
              "      <td>3423509</td>\n",
              "      <td>7999.55</td>\n",
              "    </tr>\n",
              "  </tbody>\n",
              "</table>\n",
              "</div>"
            ],
            "text/plain": [
              "         Date    Open    High  ...   Close  Total Trade Quantity  Turnover (Lacs)\n",
              "0  2018-09-28  234.05  235.95  ...  233.75               3069914          7162.35\n",
              "1  2018-09-27  234.55  236.80  ...  233.25               5082859         11859.95\n",
              "2  2018-09-26  240.00  240.00  ...  234.25               2240909          5248.60\n",
              "3  2018-09-25  233.30  236.75  ...  236.10               2349368          5503.90\n",
              "4  2018-09-24  233.55  239.20  ...  233.30               3423509          7999.55\n",
              "\n",
              "[5 rows x 8 columns]"
            ]
          },
          "metadata": {},
          "execution_count": 8
        }
      ]
    },
    {
      "cell_type": "code",
      "metadata": {
        "id": "AIC-CgX4BHNu"
      },
      "source": [
        "# Get the 'Close' values\n",
        "df_close = df.reset_index()['Close']"
      ],
      "execution_count": null,
      "outputs": []
    },
    {
      "cell_type": "code",
      "metadata": {
        "colab": {
          "base_uri": "https://localhost:8080/"
        },
        "id": "LwBq8ZSPB5CN",
        "outputId": "8af86a6e-4c90-41da-a34b-2fad8616cd19"
      },
      "source": [
        "df_close.shape"
      ],
      "execution_count": null,
      "outputs": [
        {
          "output_type": "execute_result",
          "data": {
            "text/plain": [
              "(2035,)"
            ]
          },
          "metadata": {},
          "execution_count": 18
        }
      ]
    },
    {
      "cell_type": "markdown",
      "metadata": {
        "id": "Wmln2pJSinZW"
      },
      "source": [
        "### **Plot the 'Close' values**"
      ]
    },
    {
      "cell_type": "code",
      "metadata": {
        "colab": {
          "base_uri": "https://localhost:8080/",
          "height": 282
        },
        "id": "LPst7inpB9PI",
        "outputId": "7f997033-ba1b-415a-8b80-f1a7f8caea4a"
      },
      "source": [
        "import matplotlib.pyplot as plt\n",
        "plt.plot(df_close)"
      ],
      "execution_count": null,
      "outputs": [
        {
          "output_type": "execute_result",
          "data": {
            "text/plain": [
              "[<matplotlib.lines.Line2D at 0x7f9b9b1fe310>]"
            ]
          },
          "metadata": {},
          "execution_count": 19
        },
        {
          "output_type": "display_data",
          "data": {
            "image/png": "[encoded data removed]",
            "text/plain": [
              "<Figure size 432x288 with 1 Axes>"
            ]
          },
          "metadata": {
            "needs_background": "light"
          }
        }
      ]
    },
    {
      "cell_type": "markdown",
      "metadata": {
        "id": "lNPe_49Ri5Cu"
      },
      "source": [
        "### **Use Scaler**"
      ]
    },
    {
      "cell_type": "code",
      "metadata": {
        "colab": {
          "base_uri": "https://localhost:8080/"
        },
        "id": "R382Fz9-CMwf",
        "outputId": "f8503a12-ec93-449a-f4c7-8c40c57bec65"
      },
      "source": [
        "import numpy as np\n",
        "from sklearn.preprocessing import MinMaxScaler\n",
        "scaler = MinMaxScaler(feature_range=(0, 1))\n",
        "df_close = scaler.fit_transform(np.array(df_close).reshape(-1, 1))\n",
        "df_close.shape"
      ],
      "execution_count": null,
      "outputs": [
        {
          "output_type": "execute_result",
          "data": {
            "text/plain": [
              "(2035, 1)"
            ]
          },
          "metadata": {},
          "execution_count": 20
        }
      ]
    },
    {
      "cell_type": "markdown",
      "metadata": {
        "id": "pWf34Qbei2Tu"
      },
      "source": [
        "### **Training and Testing Data**"
      ]
    },
    {
      "cell_type": "code",
      "metadata": {
        "id": "Vf3BfTBDCpl4"
      },
      "source": [
        "# split train & test\n",
        "train_size = int(len(df_close)*0.65)\n",
        "test_size = len(df_close) - train_size\n",
        "train_data, test_data = df_close[0:train_size,:], df_close[train_size:len(df1),:1]"
      ],
      "execution_count": 26,
      "outputs": []
    },
    {
      "cell_type": "code",
      "metadata": {
        "id": "0Tv6CgV6DqD4"
      },
      "source": [
        "import numpy\n",
        "# convert values to dataset matrix\n",
        "def create_dataset(dataset, time_step = 1):\n",
        "  dataX, dataY = [], []\n",
        "  for i in range(len(dataset) - time_step - 1):\n",
        "    a = dataset[i:(i+time_step), 0]\n",
        "    dataX.append(a)\n",
        "    dataY.append(dataset[i + time_step, 0])\n",
        "  return numpy.array(dataX), numpy.array(dataY)"
      ],
      "execution_count": 32,
      "outputs": []
    },
    {
      "cell_type": "code",
      "metadata": {
        "id": "lIkA0y-oEZDh"
      },
      "source": [
        "time_step=100\n",
        "X_train, y_train = create_dataset(train_data, time_step)\n",
        "X_test, y_test = create_dataset(test_data, time_step)"
      ],
      "execution_count": 33,
      "outputs": []
    },
    {
      "cell_type": "code",
      "metadata": {
        "id": "i-RbvKCuGHTx",
        "colab": {
          "base_uri": "https://localhost:8080/"
        },
        "outputId": "ab15ff5c-b2c7-4fb7-88dd-ca815f0d5ad9"
      },
      "source": [
        "print(X_train)"
      ],
      "execution_count": 34,
      "outputs": [
        {
          "output_type": "stream",
          "name": "stdout",
          "text": [
            "[[0.62418301 0.62214052 0.62622549 ... 0.83455882 0.86213235 0.85273693]\n",
            " [0.62214052 0.62622549 0.63378268 ... 0.86213235 0.85273693 0.87111928]\n",
            " [0.62622549 0.63378268 0.62234477 ... 0.85273693 0.87111928 0.84497549]\n",
            " ...\n",
            " [0.34517974 0.31781046 0.33047386 ... 0.2816585  0.27001634 0.26531863]\n",
            " [0.31781046 0.33047386 0.32128268 ... 0.27001634 0.26531863 0.27389706]\n",
            " [0.33047386 0.32128268 0.34007353 ... 0.26531863 0.27389706 0.25347222]]\n"
          ]
        }
      ]
    },
    {
      "cell_type": "code",
      "metadata": {
        "id": "plfvq5MDGatM",
        "colab": {
          "base_uri": "https://localhost:8080/"
        },
        "outputId": "bb56d636-d00d-4f43-a94b-a836e3b3b308"
      },
      "source": [
        "print(X_train.shape), print(y_train.shape)"
      ],
      "execution_count": 35,
      "outputs": [
        {
          "output_type": "stream",
          "name": "stdout",
          "text": [
            "(1221, 100)\n",
            "(1221,)\n"
          ]
        },
        {
          "output_type": "execute_result",
          "data": {
            "text/plain": [
              "(None, None)"
            ]
          },
          "metadata": {},
          "execution_count": 35
        }
      ]
    },
    {
      "cell_type": "code",
      "metadata": {
        "id": "ihLNtZRgGeg3",
        "colab": {
          "base_uri": "https://localhost:8080/"
        },
        "outputId": "e52dc07e-7b9c-4474-bd8c-0d5cb30e5e19"
      },
      "source": [
        "print(X_test.shape), print(y_test.shape)"
      ],
      "execution_count": 36,
      "outputs": [
        {
          "output_type": "stream",
          "name": "stdout",
          "text": [
            "(612, 100)\n",
            "(612,)\n"
          ]
        },
        {
          "output_type": "execute_result",
          "data": {
            "text/plain": [
              "(None, None)"
            ]
          },
          "metadata": {},
          "execution_count": 36
        }
      ]
    },
    {
      "cell_type": "markdown",
      "metadata": {
        "id": "FrdeJG8XjIP9"
      },
      "source": [
        "### **Reshape input into 3D format as required for LSTM**"
      ]
    },
    {
      "cell_type": "code",
      "metadata": {
        "id": "4xG7ihYaGyfh"
      },
      "source": [
        "# reshape input to 3D [samples, time steps, features]\n",
        "# 3D input required for LSTM\n",
        "X_train = X_train.reshape(X_train.shape[0], X_train.shape[1], 1)\n",
        "X_test = X_test.reshape(X_test.shape[0], X_test.shape[1], 1)"
      ],
      "execution_count": 37,
      "outputs": []
    },
    {
      "cell_type": "markdown",
      "metadata": {
        "id": "NsYylguFHcpb"
      },
      "source": [
        "### **Create Stacked LSTM Model**"
      ]
    },
    {
      "cell_type": "code",
      "metadata": {
        "id": "1I2hjtgpHkFQ"
      },
      "source": [
        "from tensorflow.keras.models import Sequential\n",
        "from tensorflow.keras.layers import Dense\n",
        "from tensorflow.keras.layers import LSTM"
      ],
      "execution_count": 38,
      "outputs": []
    },
    {
      "cell_type": "code",
      "metadata": {
        "id": "tTvNjlw9Hz0H"
      },
      "source": [
        "model = Sequential()\n",
        "model.add(LSTM(50, return_sequences=True, input_shape=(100,1)))\n",
        "model.add(LSTM(50, return_sequences=True))\n",
        "model.add(LSTM(50))\n",
        "model.add(Dense(1))\n",
        "# compile model\n",
        "model.compile(loss='mean_squared_error', optimizer='adam')\n"
      ],
      "execution_count": 44,
      "outputs": []
    },
    {
      "cell_type": "code",
      "metadata": {
        "id": "-mb0SJu4IRZD",
        "colab": {
          "base_uri": "https://localhost:8080/"
        },
        "outputId": "ceff6e6e-c8a1-47ad-b0b4-9cbe78e9ab7a"
      },
      "source": [
        "# view model summary\n",
        "model.summary()"
      ],
      "execution_count": 46,
      "outputs": [
        {
          "output_type": "stream",
          "name": "stdout",
          "text": [
            "Model: \"sequential_1\"\n",
            "_________________________________________________________________\n",
            "Layer (type)                 Output Shape              Param #   \n",
            "=================================================================\n",
            "lstm_3 (LSTM)                (None, 100, 50)           10400     \n",
            "_________________________________________________________________\n",
            "lstm_4 (LSTM)                (None, 100, 50)           20200     \n",
            "_________________________________________________________________\n",
            "lstm_5 (LSTM)                (None, 50)                20200     \n",
            "_________________________________________________________________\n",
            "dense_1 (Dense)              (None, 1)                 51        \n",
            "=================================================================\n",
            "Total params: 50,851\n",
            "Trainable params: 50,851\n",
            "Non-trainable params: 0\n",
            "_________________________________________________________________\n"
          ]
        }
      ]
    },
    {
      "cell_type": "code",
      "metadata": {
        "colab": {
          "base_uri": "https://localhost:8080/"
        },
        "id": "JAwC44cxKA5P",
        "outputId": "6b3c128f-47bd-4960-98f3-0718aa07d8f1"
      },
      "source": [
        "model.fit(X_train, y_train, validation_data=(X_test, y_test), epochs=100, batch_size=64, verbose=1)"
      ],
      "execution_count": 48,
      "outputs": [
        {
          "output_type": "stream",
          "name": "stdout",
          "text": [
            "Epoch 1/100\n",
            "20/20 [==============================] - 12s 286ms/step - loss: 0.0319 - val_loss: 0.0054\n",
            "Epoch 2/100\n",
            "20/20 [==============================] - 4s 220ms/step - loss: 0.0031 - val_loss: 9.8749e-04\n",
            "Epoch 3/100\n",
            "20/20 [==============================] - 4s 220ms/step - loss: 0.0023 - val_loss: 0.0012\n",
            "Epoch 4/100\n",
            "20/20 [==============================] - 4s 217ms/step - loss: 0.0016 - val_loss: 0.0012\n",
            "Epoch 5/100\n",
            "20/20 [==============================] - 4s 215ms/step - loss: 0.0014 - val_loss: 0.0012\n",
            "Epoch 6/100\n",
            "20/20 [==============================] - 4s 214ms/step - loss: 0.0015 - val_loss: 0.0014\n",
            "Epoch 7/100\n",
            "20/20 [==============================] - 4s 211ms/step - loss: 0.0013 - val_loss: 0.0011\n",
            "Epoch 8/100\n",
            "20/20 [==============================] - 4s 215ms/step - loss: 0.0012 - val_loss: 0.0010\n",
            "Epoch 9/100\n",
            "20/20 [==============================] - 4s 218ms/step - loss: 0.0016 - val_loss: 8.5848e-04\n",
            "Epoch 10/100\n",
            "20/20 [==============================] - 4s 214ms/step - loss: 0.0013 - val_loss: 0.0012\n",
            "Epoch 11/100\n",
            "20/20 [==============================] - 4s 214ms/step - loss: 0.0012 - val_loss: 0.0011\n",
            "Epoch 12/100\n",
            "20/20 [==============================] - 4s 211ms/step - loss: 0.0010 - val_loss: 9.6296e-04\n",
            "Epoch 13/100\n",
            "20/20 [==============================] - 4s 208ms/step - loss: 0.0010 - val_loss: 0.0011\n",
            "Epoch 14/100\n",
            "20/20 [==============================] - 4s 206ms/step - loss: 9.5370e-04 - val_loss: 9.0927e-04\n",
            "Epoch 15/100\n",
            "20/20 [==============================] - 4s 206ms/step - loss: 9.0375e-04 - val_loss: 6.8417e-04\n",
            "Epoch 16/100\n",
            "20/20 [==============================] - 4s 207ms/step - loss: 9.3395e-04 - val_loss: 7.8754e-04\n",
            "Epoch 17/100\n",
            "20/20 [==============================] - 4s 207ms/step - loss: 9.7269e-04 - val_loss: 0.0011\n",
            "Epoch 18/100\n",
            "20/20 [==============================] - 4s 208ms/step - loss: 8.6621e-04 - val_loss: 6.9723e-04\n",
            "Epoch 19/100\n",
            "20/20 [==============================] - 4s 204ms/step - loss: 8.0821e-04 - val_loss: 8.3797e-04\n",
            "Epoch 20/100\n",
            "20/20 [==============================] - 4s 208ms/step - loss: 8.4106e-04 - val_loss: 0.0010\n",
            "Epoch 21/100\n",
            "20/20 [==============================] - 4s 208ms/step - loss: 7.4750e-04 - val_loss: 8.8635e-04\n",
            "Epoch 22/100\n",
            "20/20 [==============================] - 4s 208ms/step - loss: 7.7887e-04 - val_loss: 8.9053e-04\n",
            "Epoch 23/100\n",
            "20/20 [==============================] - 4s 207ms/step - loss: 6.9998e-04 - val_loss: 6.5799e-04\n",
            "Epoch 24/100\n",
            "20/20 [==============================] - 4s 209ms/step - loss: 7.5385e-04 - val_loss: 6.3814e-04\n",
            "Epoch 25/100\n",
            "20/20 [==============================] - 4s 210ms/step - loss: 8.0346e-04 - val_loss: 8.6116e-04\n",
            "Epoch 26/100\n",
            "20/20 [==============================] - 4s 212ms/step - loss: 6.8039e-04 - val_loss: 7.0478e-04\n",
            "Epoch 27/100\n",
            "20/20 [==============================] - 4s 210ms/step - loss: 7.3889e-04 - val_loss: 7.8271e-04\n",
            "Epoch 28/100\n",
            "20/20 [==============================] - 4s 207ms/step - loss: 6.7102e-04 - val_loss: 8.3201e-04\n",
            "Epoch 29/100\n",
            "20/20 [==============================] - 4s 206ms/step - loss: 6.4831e-04 - val_loss: 7.7534e-04\n",
            "Epoch 30/100\n",
            "20/20 [==============================] - 4s 206ms/step - loss: 6.1869e-04 - val_loss: 6.4983e-04\n",
            "Epoch 31/100\n",
            "20/20 [==============================] - 4s 210ms/step - loss: 7.8578e-04 - val_loss: 6.2451e-04\n",
            "Epoch 32/100\n",
            "20/20 [==============================] - 4s 205ms/step - loss: 6.2462e-04 - val_loss: 8.3214e-04\n",
            "Epoch 33/100\n",
            "20/20 [==============================] - 4s 204ms/step - loss: 6.2834e-04 - val_loss: 6.4353e-04\n",
            "Epoch 34/100\n",
            "20/20 [==============================] - 4s 207ms/step - loss: 6.0474e-04 - val_loss: 7.1306e-04\n",
            "Epoch 35/100\n",
            "20/20 [==============================] - 4s 207ms/step - loss: 6.9425e-04 - val_loss: 5.4889e-04\n",
            "Epoch 36/100\n",
            "20/20 [==============================] - 4s 206ms/step - loss: 6.3973e-04 - val_loss: 6.3465e-04\n",
            "Epoch 37/100\n",
            "20/20 [==============================] - 4s 207ms/step - loss: 6.9146e-04 - val_loss: 4.7941e-04\n",
            "Epoch 38/100\n",
            "20/20 [==============================] - 4s 207ms/step - loss: 5.9533e-04 - val_loss: 6.7071e-04\n",
            "Epoch 39/100\n",
            "20/20 [==============================] - 4s 206ms/step - loss: 5.4858e-04 - val_loss: 6.9497e-04\n",
            "Epoch 40/100\n",
            "20/20 [==============================] - 4s 208ms/step - loss: 5.6759e-04 - val_loss: 8.7421e-04\n",
            "Epoch 41/100\n",
            "20/20 [==============================] - 4s 208ms/step - loss: 7.5182e-04 - val_loss: 5.8749e-04\n",
            "Epoch 42/100\n",
            "20/20 [==============================] - 4s 210ms/step - loss: 5.4717e-04 - val_loss: 6.6544e-04\n",
            "Epoch 43/100\n",
            "20/20 [==============================] - 4s 206ms/step - loss: 5.4734e-04 - val_loss: 4.7607e-04\n",
            "Epoch 44/100\n",
            "20/20 [==============================] - 4s 207ms/step - loss: 5.5067e-04 - val_loss: 4.9458e-04\n",
            "Epoch 45/100\n",
            "20/20 [==============================] - 4s 206ms/step - loss: 5.1409e-04 - val_loss: 4.9200e-04\n",
            "Epoch 46/100\n",
            "20/20 [==============================] - 4s 199ms/step - loss: 4.9899e-04 - val_loss: 4.9104e-04\n",
            "Epoch 47/100\n",
            "20/20 [==============================] - 4s 201ms/step - loss: 5.0069e-04 - val_loss: 6.8338e-04\n",
            "Epoch 48/100\n",
            "20/20 [==============================] - 4s 209ms/step - loss: 4.9988e-04 - val_loss: 4.8467e-04\n",
            "Epoch 49/100\n",
            "20/20 [==============================] - 4s 208ms/step - loss: 4.7753e-04 - val_loss: 5.0506e-04\n",
            "Epoch 50/100\n",
            "20/20 [==============================] - 4s 205ms/step - loss: 4.9396e-04 - val_loss: 4.8932e-04\n",
            "Epoch 51/100\n",
            "20/20 [==============================] - 4s 205ms/step - loss: 5.3644e-04 - val_loss: 4.0617e-04\n",
            "Epoch 52/100\n",
            "20/20 [==============================] - 4s 203ms/step - loss: 5.4318e-04 - val_loss: 6.0807e-04\n",
            "Epoch 53/100\n",
            "20/20 [==============================] - 4s 202ms/step - loss: 5.5832e-04 - val_loss: 4.3495e-04\n",
            "Epoch 54/100\n",
            "20/20 [==============================] - 4s 199ms/step - loss: 6.3838e-04 - val_loss: 5.2618e-04\n",
            "Epoch 55/100\n",
            "20/20 [==============================] - 4s 193ms/step - loss: 4.6889e-04 - val_loss: 4.3246e-04\n",
            "Epoch 56/100\n",
            "20/20 [==============================] - 4s 197ms/step - loss: 4.8364e-04 - val_loss: 6.5795e-04\n",
            "Epoch 57/100\n",
            "20/20 [==============================] - 4s 195ms/step - loss: 4.6583e-04 - val_loss: 6.1314e-04\n",
            "Epoch 58/100\n",
            "20/20 [==============================] - 4s 203ms/step - loss: 5.0248e-04 - val_loss: 5.3957e-04\n",
            "Epoch 59/100\n",
            "20/20 [==============================] - 4s 199ms/step - loss: 4.4935e-04 - val_loss: 4.2343e-04\n",
            "Epoch 60/100\n",
            "20/20 [==============================] - 4s 201ms/step - loss: 4.8008e-04 - val_loss: 4.7334e-04\n",
            "Epoch 61/100\n",
            "20/20 [==============================] - 4s 203ms/step - loss: 4.1341e-04 - val_loss: 4.7851e-04\n",
            "Epoch 62/100\n",
            "20/20 [==============================] - 4s 204ms/step - loss: 4.4707e-04 - val_loss: 3.8688e-04\n",
            "Epoch 63/100\n",
            "20/20 [==============================] - 4s 201ms/step - loss: 4.1293e-04 - val_loss: 5.4444e-04\n",
            "Epoch 64/100\n",
            "20/20 [==============================] - 4s 199ms/step - loss: 4.2526e-04 - val_loss: 3.8633e-04\n",
            "Epoch 65/100\n",
            "20/20 [==============================] - 4s 194ms/step - loss: 3.8733e-04 - val_loss: 3.1159e-04\n",
            "Epoch 66/100\n",
            "20/20 [==============================] - 4s 198ms/step - loss: 3.8148e-04 - val_loss: 3.7236e-04\n",
            "Epoch 67/100\n",
            "20/20 [==============================] - 4s 199ms/step - loss: 4.1487e-04 - val_loss: 3.2144e-04\n",
            "Epoch 68/100\n",
            "20/20 [==============================] - 4s 197ms/step - loss: 3.9209e-04 - val_loss: 3.9558e-04\n",
            "Epoch 69/100\n",
            "20/20 [==============================] - 4s 197ms/step - loss: 3.8213e-04 - val_loss: 4.4212e-04\n",
            "Epoch 70/100\n",
            "20/20 [==============================] - 4s 199ms/step - loss: 3.3993e-04 - val_loss: 3.1317e-04\n",
            "Epoch 71/100\n",
            "20/20 [==============================] - 4s 201ms/step - loss: 3.5453e-04 - val_loss: 3.1094e-04\n",
            "Epoch 72/100\n",
            "20/20 [==============================] - 4s 199ms/step - loss: 3.2541e-04 - val_loss: 3.6810e-04\n",
            "Epoch 73/100\n",
            "20/20 [==============================] - 4s 193ms/step - loss: 3.2715e-04 - val_loss: 4.8602e-04\n",
            "Epoch 74/100\n",
            "20/20 [==============================] - 4s 194ms/step - loss: 3.8025e-04 - val_loss: 2.5199e-04\n",
            "Epoch 75/100\n",
            "20/20 [==============================] - 4s 196ms/step - loss: 3.1497e-04 - val_loss: 2.3976e-04\n",
            "Epoch 76/100\n",
            "20/20 [==============================] - 4s 195ms/step - loss: 3.0870e-04 - val_loss: 2.5330e-04\n",
            "Epoch 77/100\n",
            "20/20 [==============================] - 4s 201ms/step - loss: 2.9720e-04 - val_loss: 3.2768e-04\n",
            "Epoch 78/100\n",
            "20/20 [==============================] - 4s 203ms/step - loss: 2.9525e-04 - val_loss: 2.7359e-04\n",
            "Epoch 79/100\n",
            "20/20 [==============================] - 4s 202ms/step - loss: 3.6068e-04 - val_loss: 2.5968e-04\n",
            "Epoch 80/100\n",
            "20/20 [==============================] - 4s 205ms/step - loss: 3.0645e-04 - val_loss: 2.2749e-04\n",
            "Epoch 81/100\n",
            "20/20 [==============================] - 4s 205ms/step - loss: 2.7999e-04 - val_loss: 2.5462e-04\n",
            "Epoch 82/100\n",
            "20/20 [==============================] - 4s 199ms/step - loss: 3.4639e-04 - val_loss: 2.3313e-04\n",
            "Epoch 83/100\n",
            "20/20 [==============================] - 4s 198ms/step - loss: 2.7821e-04 - val_loss: 2.8185e-04\n",
            "Epoch 84/100\n",
            "20/20 [==============================] - 4s 195ms/step - loss: 2.5725e-04 - val_loss: 2.6936e-04\n",
            "Epoch 85/100\n",
            "20/20 [==============================] - 4s 196ms/step - loss: 2.6199e-04 - val_loss: 3.0618e-04\n",
            "Epoch 86/100\n",
            "20/20 [==============================] - 4s 201ms/step - loss: 2.8042e-04 - val_loss: 2.5239e-04\n",
            "Epoch 87/100\n",
            "20/20 [==============================] - 4s 196ms/step - loss: 2.4904e-04 - val_loss: 2.2943e-04\n",
            "Epoch 88/100\n",
            "20/20 [==============================] - 4s 195ms/step - loss: 2.5913e-04 - val_loss: 2.5312e-04\n",
            "Epoch 89/100\n",
            "20/20 [==============================] - 4s 192ms/step - loss: 2.6569e-04 - val_loss: 2.1963e-04\n",
            "Epoch 90/100\n",
            "20/20 [==============================] - 4s 192ms/step - loss: 2.5214e-04 - val_loss: 2.6289e-04\n",
            "Epoch 91/100\n",
            "20/20 [==============================] - 4s 197ms/step - loss: 2.5203e-04 - val_loss: 1.8534e-04\n",
            "Epoch 92/100\n",
            "20/20 [==============================] - 4s 195ms/step - loss: 2.4460e-04 - val_loss: 3.0759e-04\n",
            "Epoch 93/100\n",
            "20/20 [==============================] - 4s 197ms/step - loss: 7.4677e-04 - val_loss: 2.6719e-04\n",
            "Epoch 94/100\n",
            "20/20 [==============================] - 4s 194ms/step - loss: 3.3179e-04 - val_loss: 2.5489e-04\n",
            "Epoch 95/100\n",
            "20/20 [==============================] - 4s 196ms/step - loss: 2.4554e-04 - val_loss: 2.2221e-04\n",
            "Epoch 96/100\n",
            "20/20 [==============================] - 4s 189ms/step - loss: 2.4522e-04 - val_loss: 2.0084e-04\n",
            "Epoch 97/100\n",
            "20/20 [==============================] - 4s 189ms/step - loss: 2.5320e-04 - val_loss: 2.2505e-04\n",
            "Epoch 98/100\n",
            "20/20 [==============================] - 4s 188ms/step - loss: 2.2103e-04 - val_loss: 2.6176e-04\n",
            "Epoch 99/100\n",
            "20/20 [==============================] - 4s 191ms/step - loss: 2.4204e-04 - val_loss: 2.7066e-04\n",
            "Epoch 100/100\n",
            "20/20 [==============================] - 4s 192ms/step - loss: 2.7308e-04 - val_loss: 2.4121e-04\n"
          ]
        },
        {
          "output_type": "execute_result",
          "data": {
            "text/plain": [
              "<keras.callbacks.History at 0x7f9b96182dd0>"
            ]
          },
          "metadata": {},
          "execution_count": 48
        }
      ]
    },
    {
      "cell_type": "markdown",
      "metadata": {
        "id": "UJdyl7LUSHQK"
      },
      "source": [
        "### **Prediction & Performance Metrics**"
      ]
    },
    {
      "cell_type": "code",
      "metadata": {
        "id": "Wh8vlbykO41Q"
      },
      "source": [
        "train_predict = model.predict(X_train)\n",
        "test_predict = model.predict(X_test)"
      ],
      "execution_count": 49,
      "outputs": []
    },
    {
      "cell_type": "code",
      "metadata": {
        "id": "XgJNRqqTSWCB"
      },
      "source": [
        "train_predict = scaler.inverse_transform(train_predict)\n",
        "test_predict = scaler.inverse_transform(test_predict)"
      ],
      "execution_count": 50,
      "outputs": []
    },
    {
      "cell_type": "code",
      "metadata": {
        "colab": {
          "base_uri": "https://localhost:8080/"
        },
        "id": "ZyzFNzEkSofp",
        "outputId": "2d42dece-ae0e-43e7-ea20-bcb25daf68e4"
      },
      "source": [
        "import math\n",
        "from sklearn.metrics import mean_squared_error\n",
        "\n",
        "# Calculate RMSE performance metrics\n",
        "math.sqrt(mean_squared_error(y_train, train_predict))"
      ],
      "execution_count": 53,
      "outputs": [
        {
          "output_type": "execute_result",
          "data": {
            "text/plain": [
              "166.02246091533394"
            ]
          },
          "metadata": {},
          "execution_count": 53
        }
      ]
    },
    {
      "cell_type": "code",
      "metadata": {
        "colab": {
          "base_uri": "https://localhost:8080/"
        },
        "id": "qsT-1DpKTAep",
        "outputId": "a010d3a0-3512-4d2c-e7e3-7df6aa188bba"
      },
      "source": [
        "# test data RMSE\n",
        "math.sqrt(mean_squared_error(y_test, test_predict))"
      ],
      "execution_count": 55,
      "outputs": [
        {
          "output_type": "execute_result",
          "data": {
            "text/plain": [
              "116.52687747323411"
            ]
          },
          "metadata": {},
          "execution_count": 55
        }
      ]
    },
    {
      "cell_type": "markdown",
      "metadata": {
        "id": "C8Ea6f8_bsg8"
      },
      "source": [
        "### **Plotting Results**"
      ]
    },
    {
      "cell_type": "code",
      "metadata": {
        "colab": {
          "base_uri": "https://localhost:8080/",
          "height": 265
        },
        "id": "TYdVZC4TbrHa",
        "outputId": "1884a18a-6bb2-4ca8-bdbe-0bffa75013c3"
      },
      "source": [
        "# shift train predictions for plotting\n",
        "look_back = 100\n",
        "trainPredictPlot = np.empty_like(df_close)\n",
        "trainPredictPlot[:, :] = np.nan\n",
        "trainPredictPlot[look_back:len(train_predict)+look_back, :] = train_predict\n",
        "\n",
        "# shift test predictions for plotting\n",
        "testPredictPlot = np.empty_like(df_close)\n",
        "testPredictPlot[:, :] = np.nan\n",
        "testPredictPlot[len(train_predict)+(look_back*2)+1:len(df_close)-1, :] = test_predict\n",
        "\n",
        "# plot baseline and predictions\n",
        "plt.plot(scaler.inverse_transform(df_close))\n",
        "plt.plot(trainPredictPlot)\n",
        "plt.plot(testPredictPlot)\n",
        "plt.show()"
      ],
      "execution_count": 56,
      "outputs": [
        {
          "output_type": "display_data",
          "data": {
            "image/png": "[encoded data removed]",
            "text/plain": [
              "<Figure size 432x288 with 1 Axes>"
            ]
          },
          "metadata": {
            "needs_background": "light"
          }
        }
      ]
    },
    {
      "cell_type": "code",
      "metadata": {
        "colab": {
          "base_uri": "https://localhost:8080/"
        },
        "id": "8aqQBSardg9M",
        "outputId": "0509e13e-b197-4bd5-ff53-76f43f630b44"
      },
      "source": [
        "len(test_data)"
      ],
      "execution_count": 58,
      "outputs": [
        {
          "output_type": "execute_result",
          "data": {
            "text/plain": [
              "713"
            ]
          },
          "metadata": {},
          "execution_count": 58
        }
      ]
    },
    {
      "cell_type": "code",
      "metadata": {
        "colab": {
          "base_uri": "https://localhost:8080/"
        },
        "id": "t2UIjXFFdprU",
        "outputId": "786c77fa-32c1-49ca-c927-d1a047159a0e"
      },
      "source": [
        "x_input = test_data[613:].reshape(1, -1)\n",
        "x_input.shape"
      ],
      "execution_count": 59,
      "outputs": [
        {
          "output_type": "execute_result",
          "data": {
            "text/plain": [
              "(1, 100)"
            ]
          },
          "metadata": {},
          "execution_count": 59
        }
      ]
    },
    {
      "cell_type": "code",
      "metadata": {
        "id": "Bdf69Lhsd4MN"
      },
      "source": [
        "temp_input = list(x_input)\n",
        "temp_input = temp_input[0].tolist()"
      ],
      "execution_count": 60,
      "outputs": []
    },
    {
      "cell_type": "markdown",
      "metadata": {
        "id": "X1eL3E1Rjg7-"
      },
      "source": [
        "### **Prediction for next 30 days**"
      ]
    },
    {
      "cell_type": "code",
      "metadata": {
        "colab": {
          "base_uri": "https://localhost:8080/"
        },
        "id": "-x1Y_SSOeN1k",
        "outputId": "e995e457-96bf-4081-adaa-29cdf9f7cd71"
      },
      "source": [
        "# demonstrate prediction for next 30 days\n",
        "from numpy import array\n",
        "\n",
        "lst_op = []\n",
        "n_steps = 100\n",
        "i = 0\n",
        "while i < 30:\n",
        "  if(len(temp_input)>100):\n",
        "    x_input = np.array(temp_input[1:])\n",
        "    print(\"{} day input {}\".format(i, x_input))\n",
        "    x_input = x_input.reshape(1, -1)\n",
        "    x_input = x_input.reshape((1, n_steps, 1))\n",
        "    yhat = model.predict(x_input, verbose = 0)\n",
        "    print(\"{} day output {}\".format(i, yhat))\n",
        "    temp_input.extend(yhat[0].tolist())\n",
        "    temp_input = temp_input[1:]\n",
        "    lst_op.extend(yhat.tolist())\n",
        "    i += 1\n",
        "  else:\n",
        "    x_input = x_input.reshape((1, n_steps, 1))\n",
        "    yhat = model.predict(x_input, verbose=0)\n",
        "    print(yhat[0])\n",
        "    temp_input.extend(yhat[0].tolist())\n",
        "    print(len(temp_input))\n",
        "    lst_op.extend(yhat.tolist())\n",
        "    i += 1\n",
        "print(lst_op)\n"
      ],
      "execution_count": 63,
      "outputs": [
        {
          "output_type": "stream",
          "name": "stdout",
          "text": [
            "[0.16743809]\n",
            "101\n",
            "1 day input [0.13848039 0.14011438 0.13888889 0.13541667 0.14011438 0.1380719\n",
            " 0.13071895 0.13071895 0.12867647 0.11846405 0.14644608 0.14808007\n",
            " 0.15910948 0.15992647 0.15788399 0.16441993 0.17892157 0.17933007\n",
            " 0.19260621 0.20812908 0.18974673 0.18055556 0.18239379 0.17708333\n",
            " 0.17810458 0.18055556 0.17810458 0.17851307 0.19607843 0.18913399\n",
            " 0.18954248 0.19403595 0.19444444 0.20200163 0.19771242 0.19934641\n",
            " 0.19873366 0.1997549  0.2128268  0.21568627 0.20445261 0.21772876\n",
            " 0.21098856 0.21425654 0.19750817 0.18811275 0.17851307 0.17381536\n",
            " 0.16033497 0.16564542 0.17116013 0.17422386 0.18035131 0.17401961\n",
            " 0.16278595 0.16973039 0.17810458 0.17034314 0.16830065 0.17279412\n",
            " 0.17544935 0.18382353 0.19138072 0.18913399 0.19097222 0.17238562\n",
            " 0.16830065 0.1693219  0.17177288 0.16156046 0.14971405 0.1503268\n",
            " 0.15196078 0.14726307 0.14501634 0.14603758 0.12479575 0.13112745\n",
            " 0.11397059 0.1190768  0.12377451 0.13562092 0.12908497 0.13459967\n",
            " 0.12806373 0.13031046 0.12724673 0.13521242 0.14522059 0.15257353\n",
            " 0.14848856 0.14338235 0.14562908 0.15236928 0.15400327 0.14971405\n",
            " 0.1621732  0.16319444 0.16584967 0.16743809]\n",
            "1 day output [[0.17011692]]\n",
            "2 day input [0.14011438 0.13888889 0.13541667 0.14011438 0.1380719  0.13071895\n",
            " 0.13071895 0.12867647 0.11846405 0.14644608 0.14808007 0.15910948\n",
            " 0.15992647 0.15788399 0.16441993 0.17892157 0.17933007 0.19260621\n",
            " 0.20812908 0.18974673 0.18055556 0.18239379 0.17708333 0.17810458\n",
            " 0.18055556 0.17810458 0.17851307 0.19607843 0.18913399 0.18954248\n",
            " 0.19403595 0.19444444 0.20200163 0.19771242 0.19934641 0.19873366\n",
            " 0.1997549  0.2128268  0.21568627 0.20445261 0.21772876 0.21098856\n",
            " 0.21425654 0.19750817 0.18811275 0.17851307 0.17381536 0.16033497\n",
            " 0.16564542 0.17116013 0.17422386 0.18035131 0.17401961 0.16278595\n",
            " 0.16973039 0.17810458 0.17034314 0.16830065 0.17279412 0.17544935\n",
            " 0.18382353 0.19138072 0.18913399 0.19097222 0.17238562 0.16830065\n",
            " 0.1693219  0.17177288 0.16156046 0.14971405 0.1503268  0.15196078\n",
            " 0.14726307 0.14501634 0.14603758 0.12479575 0.13112745 0.11397059\n",
            " 0.1190768  0.12377451 0.13562092 0.12908497 0.13459967 0.12806373\n",
            " 0.13031046 0.12724673 0.13521242 0.14522059 0.15257353 0.14848856\n",
            " 0.14338235 0.14562908 0.15236928 0.15400327 0.14971405 0.1621732\n",
            " 0.16319444 0.16584967 0.16743809 0.17011692]\n",
            "2 day output [[0.1722583]]\n",
            "3 day input [0.13888889 0.13541667 0.14011438 0.1380719  0.13071895 0.13071895\n",
            " 0.12867647 0.11846405 0.14644608 0.14808007 0.15910948 0.15992647\n",
            " 0.15788399 0.16441993 0.17892157 0.17933007 0.19260621 0.20812908\n",
            " 0.18974673 0.18055556 0.18239379 0.17708333 0.17810458 0.18055556\n",
            " 0.17810458 0.17851307 0.19607843 0.18913399 0.18954248 0.19403595\n",
            " 0.19444444 0.20200163 0.19771242 0.19934641 0.19873366 0.1997549\n",
            " 0.2128268  0.21568627 0.20445261 0.21772876 0.21098856 0.21425654\n",
            " 0.19750817 0.18811275 0.17851307 0.17381536 0.16033497 0.16564542\n",
            " 0.17116013 0.17422386 0.18035131 0.17401961 0.16278595 0.16973039\n",
            " 0.17810458 0.17034314 0.16830065 0.17279412 0.17544935 0.18382353\n",
            " 0.19138072 0.18913399 0.19097222 0.17238562 0.16830065 0.1693219\n",
            " 0.17177288 0.16156046 0.14971405 0.1503268  0.15196078 0.14726307\n",
            " 0.14501634 0.14603758 0.12479575 0.13112745 0.11397059 0.1190768\n",
            " 0.12377451 0.13562092 0.12908497 0.13459967 0.12806373 0.13031046\n",
            " 0.12724673 0.13521242 0.14522059 0.15257353 0.14848856 0.14338235\n",
            " 0.14562908 0.15236928 0.15400327 0.14971405 0.1621732  0.16319444\n",
            " 0.16584967 0.16743809 0.17011692 0.1722583 ]\n",
            "3 day output [[0.17413737]]\n",
            "4 day input [0.13541667 0.14011438 0.1380719  0.13071895 0.13071895 0.12867647\n",
            " 0.11846405 0.14644608 0.14808007 0.15910948 0.15992647 0.15788399\n",
            " 0.16441993 0.17892157 0.17933007 0.19260621 0.20812908 0.18974673\n",
            " 0.18055556 0.18239379 0.17708333 0.17810458 0.18055556 0.17810458\n",
            " 0.17851307 0.19607843 0.18913399 0.18954248 0.19403595 0.19444444\n",
            " 0.20200163 0.19771242 0.19934641 0.19873366 0.1997549  0.2128268\n",
            " 0.21568627 0.20445261 0.21772876 0.21098856 0.21425654 0.19750817\n",
            " 0.18811275 0.17851307 0.17381536 0.16033497 0.16564542 0.17116013\n",
            " 0.17422386 0.18035131 0.17401961 0.16278595 0.16973039 0.17810458\n",
            " 0.17034314 0.16830065 0.17279412 0.17544935 0.18382353 0.19138072\n",
            " 0.18913399 0.19097222 0.17238562 0.16830065 0.1693219  0.17177288\n",
            " 0.16156046 0.14971405 0.1503268  0.15196078 0.14726307 0.14501634\n",
            " 0.14603758 0.12479575 0.13112745 0.11397059 0.1190768  0.12377451\n",
            " 0.13562092 0.12908497 0.13459967 0.12806373 0.13031046 0.12724673\n",
            " 0.13521242 0.14522059 0.15257353 0.14848856 0.14338235 0.14562908\n",
            " 0.15236928 0.15400327 0.14971405 0.1621732  0.16319444 0.16584967\n",
            " 0.16743809 0.17011692 0.1722583  0.17413737]\n",
            "4 day output [[0.17584969]]\n",
            "5 day input [0.14011438 0.1380719  0.13071895 0.13071895 0.12867647 0.11846405\n",
            " 0.14644608 0.14808007 0.15910948 0.15992647 0.15788399 0.16441993\n",
            " 0.17892157 0.17933007 0.19260621 0.20812908 0.18974673 0.18055556\n",
            " 0.18239379 0.17708333 0.17810458 0.18055556 0.17810458 0.17851307\n",
            " 0.19607843 0.18913399 0.18954248 0.19403595 0.19444444 0.20200163\n",
            " 0.19771242 0.19934641 0.19873366 0.1997549  0.2128268  0.21568627\n",
            " 0.20445261 0.21772876 0.21098856 0.21425654 0.19750817 0.18811275\n",
            " 0.17851307 0.17381536 0.16033497 0.16564542 0.17116013 0.17422386\n",
            " 0.18035131 0.17401961 0.16278595 0.16973039 0.17810458 0.17034314\n",
            " 0.16830065 0.17279412 0.17544935 0.18382353 0.19138072 0.18913399\n",
            " 0.19097222 0.17238562 0.16830065 0.1693219  0.17177288 0.16156046\n",
            " 0.14971405 0.1503268  0.15196078 0.14726307 0.14501634 0.14603758\n",
            " 0.12479575 0.13112745 0.11397059 0.1190768  0.12377451 0.13562092\n",
            " 0.12908497 0.13459967 0.12806373 0.13031046 0.12724673 0.13521242\n",
            " 0.14522059 0.15257353 0.14848856 0.14338235 0.14562908 0.15236928\n",
            " 0.15400327 0.14971405 0.1621732  0.16319444 0.16584967 0.16743809\n",
            " 0.17011692 0.1722583  0.17413737 0.17584969]\n",
            "5 day output [[0.17743438]]\n",
            "6 day input [0.1380719  0.13071895 0.13071895 0.12867647 0.11846405 0.14644608\n",
            " 0.14808007 0.15910948 0.15992647 0.15788399 0.16441993 0.17892157\n",
            " 0.17933007 0.19260621 0.20812908 0.18974673 0.18055556 0.18239379\n",
            " 0.17708333 0.17810458 0.18055556 0.17810458 0.17851307 0.19607843\n",
            " 0.18913399 0.18954248 0.19403595 0.19444444 0.20200163 0.19771242\n",
            " 0.19934641 0.19873366 0.1997549  0.2128268  0.21568627 0.20445261\n",
            " 0.21772876 0.21098856 0.21425654 0.19750817 0.18811275 0.17851307\n",
            " 0.17381536 0.16033497 0.16564542 0.17116013 0.17422386 0.18035131\n",
            " 0.17401961 0.16278595 0.16973039 0.17810458 0.17034314 0.16830065\n",
            " 0.17279412 0.17544935 0.18382353 0.19138072 0.18913399 0.19097222\n",
            " 0.17238562 0.16830065 0.1693219  0.17177288 0.16156046 0.14971405\n",
            " 0.1503268  0.15196078 0.14726307 0.14501634 0.14603758 0.12479575\n",
            " 0.13112745 0.11397059 0.1190768  0.12377451 0.13562092 0.12908497\n",
            " 0.13459967 0.12806373 0.13031046 0.12724673 0.13521242 0.14522059\n",
            " 0.15257353 0.14848856 0.14338235 0.14562908 0.15236928 0.15400327\n",
            " 0.14971405 0.1621732  0.16319444 0.16584967 0.16743809 0.17011692\n",
            " 0.1722583  0.17413737 0.17584969 0.17743438]\n",
            "6 day output [[0.1789193]]\n",
            "7 day input [0.13071895 0.13071895 0.12867647 0.11846405 0.14644608 0.14808007\n",
            " 0.15910948 0.15992647 0.15788399 0.16441993 0.17892157 0.17933007\n",
            " 0.19260621 0.20812908 0.18974673 0.18055556 0.18239379 0.17708333\n",
            " 0.17810458 0.18055556 0.17810458 0.17851307 0.19607843 0.18913399\n",
            " 0.18954248 0.19403595 0.19444444 0.20200163 0.19771242 0.19934641\n",
            " 0.19873366 0.1997549  0.2128268  0.21568627 0.20445261 0.21772876\n",
            " 0.21098856 0.21425654 0.19750817 0.18811275 0.17851307 0.17381536\n",
            " 0.16033497 0.16564542 0.17116013 0.17422386 0.18035131 0.17401961\n",
            " 0.16278595 0.16973039 0.17810458 0.17034314 0.16830065 0.17279412\n",
            " 0.17544935 0.18382353 0.19138072 0.18913399 0.19097222 0.17238562\n",
            " 0.16830065 0.1693219  0.17177288 0.16156046 0.14971405 0.1503268\n",
            " 0.15196078 0.14726307 0.14501634 0.14603758 0.12479575 0.13112745\n",
            " 0.11397059 0.1190768  0.12377451 0.13562092 0.12908497 0.13459967\n",
            " 0.12806373 0.13031046 0.12724673 0.13521242 0.14522059 0.15257353\n",
            " 0.14848856 0.14338235 0.14562908 0.15236928 0.15400327 0.14971405\n",
            " 0.1621732  0.16319444 0.16584967 0.16743809 0.17011692 0.1722583\n",
            " 0.17413737 0.17584969 0.17743438 0.1789193 ]\n",
            "7 day output [[0.18032923]]\n",
            "8 day input [0.13071895 0.12867647 0.11846405 0.14644608 0.14808007 0.15910948\n",
            " 0.15992647 0.15788399 0.16441993 0.17892157 0.17933007 0.19260621\n",
            " 0.20812908 0.18974673 0.18055556 0.18239379 0.17708333 0.17810458\n",
            " 0.18055556 0.17810458 0.17851307 0.19607843 0.18913399 0.18954248\n",
            " 0.19403595 0.19444444 0.20200163 0.19771242 0.19934641 0.19873366\n",
            " 0.1997549  0.2128268  0.21568627 0.20445261 0.21772876 0.21098856\n",
            " 0.21425654 0.19750817 0.18811275 0.17851307 0.17381536 0.16033497\n",
            " 0.16564542 0.17116013 0.17422386 0.18035131 0.17401961 0.16278595\n",
            " 0.16973039 0.17810458 0.17034314 0.16830065 0.17279412 0.17544935\n",
            " 0.18382353 0.19138072 0.18913399 0.19097222 0.17238562 0.16830065\n",
            " 0.1693219  0.17177288 0.16156046 0.14971405 0.1503268  0.15196078\n",
            " 0.14726307 0.14501634 0.14603758 0.12479575 0.13112745 0.11397059\n",
            " 0.1190768  0.12377451 0.13562092 0.12908497 0.13459967 0.12806373\n",
            " 0.13031046 0.12724673 0.13521242 0.14522059 0.15257353 0.14848856\n",
            " 0.14338235 0.14562908 0.15236928 0.15400327 0.14971405 0.1621732\n",
            " 0.16319444 0.16584967 0.16743809 0.17011692 0.1722583  0.17413737\n",
            " 0.17584969 0.17743438 0.1789193  0.18032923]\n",
            "8 day output [[0.18168488]]\n",
            "9 day input [0.12867647 0.11846405 0.14644608 0.14808007 0.15910948 0.15992647\n",
            " 0.15788399 0.16441993 0.17892157 0.17933007 0.19260621 0.20812908\n",
            " 0.18974673 0.18055556 0.18239379 0.17708333 0.17810458 0.18055556\n",
            " 0.17810458 0.17851307 0.19607843 0.18913399 0.18954248 0.19403595\n",
            " 0.19444444 0.20200163 0.19771242 0.19934641 0.19873366 0.1997549\n",
            " 0.2128268  0.21568627 0.20445261 0.21772876 0.21098856 0.21425654\n",
            " 0.19750817 0.18811275 0.17851307 0.17381536 0.16033497 0.16564542\n",
            " 0.17116013 0.17422386 0.18035131 0.17401961 0.16278595 0.16973039\n",
            " 0.17810458 0.17034314 0.16830065 0.17279412 0.17544935 0.18382353\n",
            " 0.19138072 0.18913399 0.19097222 0.17238562 0.16830065 0.1693219\n",
            " 0.17177288 0.16156046 0.14971405 0.1503268  0.15196078 0.14726307\n",
            " 0.14501634 0.14603758 0.12479575 0.13112745 0.11397059 0.1190768\n",
            " 0.12377451 0.13562092 0.12908497 0.13459967 0.12806373 0.13031046\n",
            " 0.12724673 0.13521242 0.14522059 0.15257353 0.14848856 0.14338235\n",
            " 0.14562908 0.15236928 0.15400327 0.14971405 0.1621732  0.16319444\n",
            " 0.16584967 0.16743809 0.17011692 0.1722583  0.17413737 0.17584969\n",
            " 0.17743438 0.1789193  0.18032923 0.18168488]\n",
            "9 day output [[0.18300194]]\n",
            "10 day input [0.11846405 0.14644608 0.14808007 0.15910948 0.15992647 0.15788399\n",
            " 0.16441993 0.17892157 0.17933007 0.19260621 0.20812908 0.18974673\n",
            " 0.18055556 0.18239379 0.17708333 0.17810458 0.18055556 0.17810458\n",
            " 0.17851307 0.19607843 0.18913399 0.18954248 0.19403595 0.19444444\n",
            " 0.20200163 0.19771242 0.19934641 0.19873366 0.1997549  0.2128268\n",
            " 0.21568627 0.20445261 0.21772876 0.21098856 0.21425654 0.19750817\n",
            " 0.18811275 0.17851307 0.17381536 0.16033497 0.16564542 0.17116013\n",
            " 0.17422386 0.18035131 0.17401961 0.16278595 0.16973039 0.17810458\n",
            " 0.17034314 0.16830065 0.17279412 0.17544935 0.18382353 0.19138072\n",
            " 0.18913399 0.19097222 0.17238562 0.16830065 0.1693219  0.17177288\n",
            " 0.16156046 0.14971405 0.1503268  0.15196078 0.14726307 0.14501634\n",
            " 0.14603758 0.12479575 0.13112745 0.11397059 0.1190768  0.12377451\n",
            " 0.13562092 0.12908497 0.13459967 0.12806373 0.13031046 0.12724673\n",
            " 0.13521242 0.14522059 0.15257353 0.14848856 0.14338235 0.14562908\n",
            " 0.15236928 0.15400327 0.14971405 0.1621732  0.16319444 0.16584967\n",
            " 0.16743809 0.17011692 0.1722583  0.17413737 0.17584969 0.17743438\n",
            " 0.1789193  0.18032923 0.18168488 0.18300194]\n",
            "10 day output [[0.18429129]]\n",
            "11 day input [0.14644608 0.14808007 0.15910948 0.15992647 0.15788399 0.16441993\n",
            " 0.17892157 0.17933007 0.19260621 0.20812908 0.18974673 0.18055556\n",
            " 0.18239379 0.17708333 0.17810458 0.18055556 0.17810458 0.17851307\n",
            " 0.19607843 0.18913399 0.18954248 0.19403595 0.19444444 0.20200163\n",
            " 0.19771242 0.19934641 0.19873366 0.1997549  0.2128268  0.21568627\n",
            " 0.20445261 0.21772876 0.21098856 0.21425654 0.19750817 0.18811275\n",
            " 0.17851307 0.17381536 0.16033497 0.16564542 0.17116013 0.17422386\n",
            " 0.18035131 0.17401961 0.16278595 0.16973039 0.17810458 0.17034314\n",
            " 0.16830065 0.17279412 0.17544935 0.18382353 0.19138072 0.18913399\n",
            " 0.19097222 0.17238562 0.16830065 0.1693219  0.17177288 0.16156046\n",
            " 0.14971405 0.1503268  0.15196078 0.14726307 0.14501634 0.14603758\n",
            " 0.12479575 0.13112745 0.11397059 0.1190768  0.12377451 0.13562092\n",
            " 0.12908497 0.13459967 0.12806373 0.13031046 0.12724673 0.13521242\n",
            " 0.14522059 0.15257353 0.14848856 0.14338235 0.14562908 0.15236928\n",
            " 0.15400327 0.14971405 0.1621732  0.16319444 0.16584967 0.16743809\n",
            " 0.17011692 0.1722583  0.17413737 0.17584969 0.17743438 0.1789193\n",
            " 0.18032923 0.18168488 0.18300194 0.18429129]\n",
            "11 day output [[0.1855596]]\n",
            "12 day input [0.14808007 0.15910948 0.15992647 0.15788399 0.16441993 0.17892157\n",
            " 0.17933007 0.19260621 0.20812908 0.18974673 0.18055556 0.18239379\n",
            " 0.17708333 0.17810458 0.18055556 0.17810458 0.17851307 0.19607843\n",
            " 0.18913399 0.18954248 0.19403595 0.19444444 0.20200163 0.19771242\n",
            " 0.19934641 0.19873366 0.1997549  0.2128268  0.21568627 0.20445261\n",
            " 0.21772876 0.21098856 0.21425654 0.19750817 0.18811275 0.17851307\n",
            " 0.17381536 0.16033497 0.16564542 0.17116013 0.17422386 0.18035131\n",
            " 0.17401961 0.16278595 0.16973039 0.17810458 0.17034314 0.16830065\n",
            " 0.17279412 0.17544935 0.18382353 0.19138072 0.18913399 0.19097222\n",
            " 0.17238562 0.16830065 0.1693219  0.17177288 0.16156046 0.14971405\n",
            " 0.1503268  0.15196078 0.14726307 0.14501634 0.14603758 0.12479575\n",
            " 0.13112745 0.11397059 0.1190768  0.12377451 0.13562092 0.12908497\n",
            " 0.13459967 0.12806373 0.13031046 0.12724673 0.13521242 0.14522059\n",
            " 0.15257353 0.14848856 0.14338235 0.14562908 0.15236928 0.15400327\n",
            " 0.14971405 0.1621732  0.16319444 0.16584967 0.16743809 0.17011692\n",
            " 0.1722583  0.17413737 0.17584969 0.17743438 0.1789193  0.18032923\n",
            " 0.18168488 0.18300194 0.18429129 0.1855596 ]\n",
            "12 day output [[0.18681036]]\n",
            "13 day input [0.15910948 0.15992647 0.15788399 0.16441993 0.17892157 0.17933007\n",
            " 0.19260621 0.20812908 0.18974673 0.18055556 0.18239379 0.17708333\n",
            " 0.17810458 0.18055556 0.17810458 0.17851307 0.19607843 0.18913399\n",
            " 0.18954248 0.19403595 0.19444444 0.20200163 0.19771242 0.19934641\n",
            " 0.19873366 0.1997549  0.2128268  0.21568627 0.20445261 0.21772876\n",
            " 0.21098856 0.21425654 0.19750817 0.18811275 0.17851307 0.17381536\n",
            " 0.16033497 0.16564542 0.17116013 0.17422386 0.18035131 0.17401961\n",
            " 0.16278595 0.16973039 0.17810458 0.17034314 0.16830065 0.17279412\n",
            " 0.17544935 0.18382353 0.19138072 0.18913399 0.19097222 0.17238562\n",
            " 0.16830065 0.1693219  0.17177288 0.16156046 0.14971405 0.1503268\n",
            " 0.15196078 0.14726307 0.14501634 0.14603758 0.12479575 0.13112745\n",
            " 0.11397059 0.1190768  0.12377451 0.13562092 0.12908497 0.13459967\n",
            " 0.12806373 0.13031046 0.12724673 0.13521242 0.14522059 0.15257353\n",
            " 0.14848856 0.14338235 0.14562908 0.15236928 0.15400327 0.14971405\n",
            " 0.1621732  0.16319444 0.16584967 0.16743809 0.17011692 0.1722583\n",
            " 0.17413737 0.17584969 0.17743438 0.1789193  0.18032923 0.18168488\n",
            " 0.18300194 0.18429129 0.1855596  0.18681036]\n",
            "13 day output [[0.1880446]]\n",
            "14 day input [0.15992647 0.15788399 0.16441993 0.17892157 0.17933007 0.19260621\n",
            " 0.20812908 0.18974673 0.18055556 0.18239379 0.17708333 0.17810458\n",
            " 0.18055556 0.17810458 0.17851307 0.19607843 0.18913399 0.18954248\n",
            " 0.19403595 0.19444444 0.20200163 0.19771242 0.19934641 0.19873366\n",
            " 0.1997549  0.2128268  0.21568627 0.20445261 0.21772876 0.21098856\n",
            " 0.21425654 0.19750817 0.18811275 0.17851307 0.17381536 0.16033497\n",
            " 0.16564542 0.17116013 0.17422386 0.18035131 0.17401961 0.16278595\n",
            " 0.16973039 0.17810458 0.17034314 0.16830065 0.17279412 0.17544935\n",
            " 0.18382353 0.19138072 0.18913399 0.19097222 0.17238562 0.16830065\n",
            " 0.1693219  0.17177288 0.16156046 0.14971405 0.1503268  0.15196078\n",
            " 0.14726307 0.14501634 0.14603758 0.12479575 0.13112745 0.11397059\n",
            " 0.1190768  0.12377451 0.13562092 0.12908497 0.13459967 0.12806373\n",
            " 0.13031046 0.12724673 0.13521242 0.14522059 0.15257353 0.14848856\n",
            " 0.14338235 0.14562908 0.15236928 0.15400327 0.14971405 0.1621732\n",
            " 0.16319444 0.16584967 0.16743809 0.17011692 0.1722583  0.17413737\n",
            " 0.17584969 0.17743438 0.1789193  0.18032923 0.18168488 0.18300194\n",
            " 0.18429129 0.1855596  0.18681036 0.18804459]\n",
            "14 day output [[0.18926202]]\n",
            "15 day input [0.15788399 0.16441993 0.17892157 0.17933007 0.19260621 0.20812908\n",
            " 0.18974673 0.18055556 0.18239379 0.17708333 0.17810458 0.18055556\n",
            " 0.17810458 0.17851307 0.19607843 0.18913399 0.18954248 0.19403595\n",
            " 0.19444444 0.20200163 0.19771242 0.19934641 0.19873366 0.1997549\n",
            " 0.2128268  0.21568627 0.20445261 0.21772876 0.21098856 0.21425654\n",
            " 0.19750817 0.18811275 0.17851307 0.17381536 0.16033497 0.16564542\n",
            " 0.17116013 0.17422386 0.18035131 0.17401961 0.16278595 0.16973039\n",
            " 0.17810458 0.17034314 0.16830065 0.17279412 0.17544935 0.18382353\n",
            " 0.19138072 0.18913399 0.19097222 0.17238562 0.16830065 0.1693219\n",
            " 0.17177288 0.16156046 0.14971405 0.1503268  0.15196078 0.14726307\n",
            " 0.14501634 0.14603758 0.12479575 0.13112745 0.11397059 0.1190768\n",
            " 0.12377451 0.13562092 0.12908497 0.13459967 0.12806373 0.13031046\n",
            " 0.12724673 0.13521242 0.14522059 0.15257353 0.14848856 0.14338235\n",
            " 0.14562908 0.15236928 0.15400327 0.14971405 0.1621732  0.16319444\n",
            " 0.16584967 0.16743809 0.17011692 0.1722583  0.17413737 0.17584969\n",
            " 0.17743438 0.1789193  0.18032923 0.18168488 0.18300194 0.18429129\n",
            " 0.1855596  0.18681036 0.18804459 0.18926202]\n",
            "15 day output [[0.19046153]]\n",
            "16 day input [0.16441993 0.17892157 0.17933007 0.19260621 0.20812908 0.18974673\n",
            " 0.18055556 0.18239379 0.17708333 0.17810458 0.18055556 0.17810458\n",
            " 0.17851307 0.19607843 0.18913399 0.18954248 0.19403595 0.19444444\n",
            " 0.20200163 0.19771242 0.19934641 0.19873366 0.1997549  0.2128268\n",
            " 0.21568627 0.20445261 0.21772876 0.21098856 0.21425654 0.19750817\n",
            " 0.18811275 0.17851307 0.17381536 0.16033497 0.16564542 0.17116013\n",
            " 0.17422386 0.18035131 0.17401961 0.16278595 0.16973039 0.17810458\n",
            " 0.17034314 0.16830065 0.17279412 0.17544935 0.18382353 0.19138072\n",
            " 0.18913399 0.19097222 0.17238562 0.16830065 0.1693219  0.17177288\n",
            " 0.16156046 0.14971405 0.1503268  0.15196078 0.14726307 0.14501634\n",
            " 0.14603758 0.12479575 0.13112745 0.11397059 0.1190768  0.12377451\n",
            " 0.13562092 0.12908497 0.13459967 0.12806373 0.13031046 0.12724673\n",
            " 0.13521242 0.14522059 0.15257353 0.14848856 0.14338235 0.14562908\n",
            " 0.15236928 0.15400327 0.14971405 0.1621732  0.16319444 0.16584967\n",
            " 0.16743809 0.17011692 0.1722583  0.17413737 0.17584969 0.17743438\n",
            " 0.1789193  0.18032923 0.18168488 0.18300194 0.18429129 0.1855596\n",
            " 0.18681036 0.18804459 0.18926202 0.19046153]\n",
            "16 day output [[0.19164188]]\n",
            "17 day input [0.17892157 0.17933007 0.19260621 0.20812908 0.18974673 0.18055556\n",
            " 0.18239379 0.17708333 0.17810458 0.18055556 0.17810458 0.17851307\n",
            " 0.19607843 0.18913399 0.18954248 0.19403595 0.19444444 0.20200163\n",
            " 0.19771242 0.19934641 0.19873366 0.1997549  0.2128268  0.21568627\n",
            " 0.20445261 0.21772876 0.21098856 0.21425654 0.19750817 0.18811275\n",
            " 0.17851307 0.17381536 0.16033497 0.16564542 0.17116013 0.17422386\n",
            " 0.18035131 0.17401961 0.16278595 0.16973039 0.17810458 0.17034314\n",
            " 0.16830065 0.17279412 0.17544935 0.18382353 0.19138072 0.18913399\n",
            " 0.19097222 0.17238562 0.16830065 0.1693219  0.17177288 0.16156046\n",
            " 0.14971405 0.1503268  0.15196078 0.14726307 0.14501634 0.14603758\n",
            " 0.12479575 0.13112745 0.11397059 0.1190768  0.12377451 0.13562092\n",
            " 0.12908497 0.13459967 0.12806373 0.13031046 0.12724673 0.13521242\n",
            " 0.14522059 0.15257353 0.14848856 0.14338235 0.14562908 0.15236928\n",
            " 0.15400327 0.14971405 0.1621732  0.16319444 0.16584967 0.16743809\n",
            " 0.17011692 0.1722583  0.17413737 0.17584969 0.17743438 0.1789193\n",
            " 0.18032923 0.18168488 0.18300194 0.18429129 0.1855596  0.18681036\n",
            " 0.18804459 0.18926202 0.19046153 0.19164188]\n",
            "17 day output [[0.19280186]]\n",
            "18 day input [0.17933007 0.19260621 0.20812908 0.18974673 0.18055556 0.18239379\n",
            " 0.17708333 0.17810458 0.18055556 0.17810458 0.17851307 0.19607843\n",
            " 0.18913399 0.18954248 0.19403595 0.19444444 0.20200163 0.19771242\n",
            " 0.19934641 0.19873366 0.1997549  0.2128268  0.21568627 0.20445261\n",
            " 0.21772876 0.21098856 0.21425654 0.19750817 0.18811275 0.17851307\n",
            " 0.17381536 0.16033497 0.16564542 0.17116013 0.17422386 0.18035131\n",
            " 0.17401961 0.16278595 0.16973039 0.17810458 0.17034314 0.16830065\n",
            " 0.17279412 0.17544935 0.18382353 0.19138072 0.18913399 0.19097222\n",
            " 0.17238562 0.16830065 0.1693219  0.17177288 0.16156046 0.14971405\n",
            " 0.1503268  0.15196078 0.14726307 0.14501634 0.14603758 0.12479575\n",
            " 0.13112745 0.11397059 0.1190768  0.12377451 0.13562092 0.12908497\n",
            " 0.13459967 0.12806373 0.13031046 0.12724673 0.13521242 0.14522059\n",
            " 0.15257353 0.14848856 0.14338235 0.14562908 0.15236928 0.15400327\n",
            " 0.14971405 0.1621732  0.16319444 0.16584967 0.16743809 0.17011692\n",
            " 0.1722583  0.17413737 0.17584969 0.17743438 0.1789193  0.18032923\n",
            " 0.18168488 0.18300194 0.18429129 0.1855596  0.18681036 0.18804459\n",
            " 0.18926202 0.19046153 0.19164188 0.19280186]\n",
            "18 day output [[0.19394074]]\n",
            "19 day input [0.19260621 0.20812908 0.18974673 0.18055556 0.18239379 0.17708333\n",
            " 0.17810458 0.18055556 0.17810458 0.17851307 0.19607843 0.18913399\n",
            " 0.18954248 0.19403595 0.19444444 0.20200163 0.19771242 0.19934641\n",
            " 0.19873366 0.1997549  0.2128268  0.21568627 0.20445261 0.21772876\n",
            " 0.21098856 0.21425654 0.19750817 0.18811275 0.17851307 0.17381536\n",
            " 0.16033497 0.16564542 0.17116013 0.17422386 0.18035131 0.17401961\n",
            " 0.16278595 0.16973039 0.17810458 0.17034314 0.16830065 0.17279412\n",
            " 0.17544935 0.18382353 0.19138072 0.18913399 0.19097222 0.17238562\n",
            " 0.16830065 0.1693219  0.17177288 0.16156046 0.14971405 0.1503268\n",
            " 0.15196078 0.14726307 0.14501634 0.14603758 0.12479575 0.13112745\n",
            " 0.11397059 0.1190768  0.12377451 0.13562092 0.12908497 0.13459967\n",
            " 0.12806373 0.13031046 0.12724673 0.13521242 0.14522059 0.15257353\n",
            " 0.14848856 0.14338235 0.14562908 0.15236928 0.15400327 0.14971405\n",
            " 0.1621732  0.16319444 0.16584967 0.16743809 0.17011692 0.1722583\n",
            " 0.17413737 0.17584969 0.17743438 0.1789193  0.18032923 0.18168488\n",
            " 0.18300194 0.18429129 0.1855596  0.18681036 0.18804459 0.18926202\n",
            " 0.19046153 0.19164188 0.19280186 0.19394074]\n",
            "19 day output [[0.19505823]]\n",
            "20 day input [0.20812908 0.18974673 0.18055556 0.18239379 0.17708333 0.17810458\n",
            " 0.18055556 0.17810458 0.17851307 0.19607843 0.18913399 0.18954248\n",
            " 0.19403595 0.19444444 0.20200163 0.19771242 0.19934641 0.19873366\n",
            " 0.1997549  0.2128268  0.21568627 0.20445261 0.21772876 0.21098856\n",
            " 0.21425654 0.19750817 0.18811275 0.17851307 0.17381536 0.16033497\n",
            " 0.16564542 0.17116013 0.17422386 0.18035131 0.17401961 0.16278595\n",
            " 0.16973039 0.17810458 0.17034314 0.16830065 0.17279412 0.17544935\n",
            " 0.18382353 0.19138072 0.18913399 0.19097222 0.17238562 0.16830065\n",
            " 0.1693219  0.17177288 0.16156046 0.14971405 0.1503268  0.15196078\n",
            " 0.14726307 0.14501634 0.14603758 0.12479575 0.13112745 0.11397059\n",
            " 0.1190768  0.12377451 0.13562092 0.12908497 0.13459967 0.12806373\n",
            " 0.13031046 0.12724673 0.13521242 0.14522059 0.15257353 0.14848856\n",
            " 0.14338235 0.14562908 0.15236928 0.15400327 0.14971405 0.1621732\n",
            " 0.16319444 0.16584967 0.16743809 0.17011692 0.1722583  0.17413737\n",
            " 0.17584969 0.17743438 0.1789193  0.18032923 0.18168488 0.18300194\n",
            " 0.18429129 0.1855596  0.18681036 0.18804459 0.18926202 0.19046153\n",
            " 0.19164188 0.19280186 0.19394074 0.19505823]\n",
            "20 day output [[0.19615443]]\n",
            "21 day input [0.18974673 0.18055556 0.18239379 0.17708333 0.17810458 0.18055556\n",
            " 0.17810458 0.17851307 0.19607843 0.18913399 0.18954248 0.19403595\n",
            " 0.19444444 0.20200163 0.19771242 0.19934641 0.19873366 0.1997549\n",
            " 0.2128268  0.21568627 0.20445261 0.21772876 0.21098856 0.21425654\n",
            " 0.19750817 0.18811275 0.17851307 0.17381536 0.16033497 0.16564542\n",
            " 0.17116013 0.17422386 0.18035131 0.17401961 0.16278595 0.16973039\n",
            " 0.17810458 0.17034314 0.16830065 0.17279412 0.17544935 0.18382353\n",
            " 0.19138072 0.18913399 0.19097222 0.17238562 0.16830065 0.1693219\n",
            " 0.17177288 0.16156046 0.14971405 0.1503268  0.15196078 0.14726307\n",
            " 0.14501634 0.14603758 0.12479575 0.13112745 0.11397059 0.1190768\n",
            " 0.12377451 0.13562092 0.12908497 0.13459967 0.12806373 0.13031046\n",
            " 0.12724673 0.13521242 0.14522059 0.15257353 0.14848856 0.14338235\n",
            " 0.14562908 0.15236928 0.15400327 0.14971405 0.1621732  0.16319444\n",
            " 0.16584967 0.16743809 0.17011692 0.1722583  0.17413737 0.17584969\n",
            " 0.17743438 0.1789193  0.18032923 0.18168488 0.18300194 0.18429129\n",
            " 0.1855596  0.18681036 0.18804459 0.18926202 0.19046153 0.19164188\n",
            " 0.19280186 0.19394074 0.19505823 0.19615443]\n",
            "21 day output [[0.19722986]]\n",
            "22 day input [0.18055556 0.18239379 0.17708333 0.17810458 0.18055556 0.17810458\n",
            " 0.17851307 0.19607843 0.18913399 0.18954248 0.19403595 0.19444444\n",
            " 0.20200163 0.19771242 0.19934641 0.19873366 0.1997549  0.2128268\n",
            " 0.21568627 0.20445261 0.21772876 0.21098856 0.21425654 0.19750817\n",
            " 0.18811275 0.17851307 0.17381536 0.16033497 0.16564542 0.17116013\n",
            " 0.17422386 0.18035131 0.17401961 0.16278595 0.16973039 0.17810458\n",
            " 0.17034314 0.16830065 0.17279412 0.17544935 0.18382353 0.19138072\n",
            " 0.18913399 0.19097222 0.17238562 0.16830065 0.1693219  0.17177288\n",
            " 0.16156046 0.14971405 0.1503268  0.15196078 0.14726307 0.14501634\n",
            " 0.14603758 0.12479575 0.13112745 0.11397059 0.1190768  0.12377451\n",
            " 0.13562092 0.12908497 0.13459967 0.12806373 0.13031046 0.12724673\n",
            " 0.13521242 0.14522059 0.15257353 0.14848856 0.14338235 0.14562908\n",
            " 0.15236928 0.15400327 0.14971405 0.1621732  0.16319444 0.16584967\n",
            " 0.16743809 0.17011692 0.1722583  0.17413737 0.17584969 0.17743438\n",
            " 0.1789193  0.18032923 0.18168488 0.18300194 0.18429129 0.1855596\n",
            " 0.18681036 0.18804459 0.18926202 0.19046153 0.19164188 0.19280186\n",
            " 0.19394074 0.19505823 0.19615443 0.19722986]\n",
            "22 day output [[0.19828527]]\n",
            "23 day input [0.18239379 0.17708333 0.17810458 0.18055556 0.17810458 0.17851307\n",
            " 0.19607843 0.18913399 0.18954248 0.19403595 0.19444444 0.20200163\n",
            " 0.19771242 0.19934641 0.19873366 0.1997549  0.2128268  0.21568627\n",
            " 0.20445261 0.21772876 0.21098856 0.21425654 0.19750817 0.18811275\n",
            " 0.17851307 0.17381536 0.16033497 0.16564542 0.17116013 0.17422386\n",
            " 0.18035131 0.17401961 0.16278595 0.16973039 0.17810458 0.17034314\n",
            " 0.16830065 0.17279412 0.17544935 0.18382353 0.19138072 0.18913399\n",
            " 0.19097222 0.17238562 0.16830065 0.1693219  0.17177288 0.16156046\n",
            " 0.14971405 0.1503268  0.15196078 0.14726307 0.14501634 0.14603758\n",
            " 0.12479575 0.13112745 0.11397059 0.1190768  0.12377451 0.13562092\n",
            " 0.12908497 0.13459967 0.12806373 0.13031046 0.12724673 0.13521242\n",
            " 0.14522059 0.15257353 0.14848856 0.14338235 0.14562908 0.15236928\n",
            " 0.15400327 0.14971405 0.1621732  0.16319444 0.16584967 0.16743809\n",
            " 0.17011692 0.1722583  0.17413737 0.17584969 0.17743438 0.1789193\n",
            " 0.18032923 0.18168488 0.18300194 0.18429129 0.1855596  0.18681036\n",
            " 0.18804459 0.18926202 0.19046153 0.19164188 0.19280186 0.19394074\n",
            " 0.19505823 0.19615443 0.19722986 0.19828527]\n",
            "23 day output [[0.19932155]]\n",
            "24 day input [0.17708333 0.17810458 0.18055556 0.17810458 0.17851307 0.19607843\n",
            " 0.18913399 0.18954248 0.19403595 0.19444444 0.20200163 0.19771242\n",
            " 0.19934641 0.19873366 0.1997549  0.2128268  0.21568627 0.20445261\n",
            " 0.21772876 0.21098856 0.21425654 0.19750817 0.18811275 0.17851307\n",
            " 0.17381536 0.16033497 0.16564542 0.17116013 0.17422386 0.18035131\n",
            " 0.17401961 0.16278595 0.16973039 0.17810458 0.17034314 0.16830065\n",
            " 0.17279412 0.17544935 0.18382353 0.19138072 0.18913399 0.19097222\n",
            " 0.17238562 0.16830065 0.1693219  0.17177288 0.16156046 0.14971405\n",
            " 0.1503268  0.15196078 0.14726307 0.14501634 0.14603758 0.12479575\n",
            " 0.13112745 0.11397059 0.1190768  0.12377451 0.13562092 0.12908497\n",
            " 0.13459967 0.12806373 0.13031046 0.12724673 0.13521242 0.14522059\n",
            " 0.15257353 0.14848856 0.14338235 0.14562908 0.15236928 0.15400327\n",
            " 0.14971405 0.1621732  0.16319444 0.16584967 0.16743809 0.17011692\n",
            " 0.1722583  0.17413737 0.17584969 0.17743438 0.1789193  0.18032923\n",
            " 0.18168488 0.18300194 0.18429129 0.1855596  0.18681036 0.18804459\n",
            " 0.18926202 0.19046153 0.19164188 0.19280186 0.19394074 0.19505823\n",
            " 0.19615443 0.19722986 0.19828527 0.19932155]\n",
            "24 day output [[0.2003396]]\n",
            "25 day input [0.17810458 0.18055556 0.17810458 0.17851307 0.19607843 0.18913399\n",
            " 0.18954248 0.19403595 0.19444444 0.20200163 0.19771242 0.19934641\n",
            " 0.19873366 0.1997549  0.2128268  0.21568627 0.20445261 0.21772876\n",
            " 0.21098856 0.21425654 0.19750817 0.18811275 0.17851307 0.17381536\n",
            " 0.16033497 0.16564542 0.17116013 0.17422386 0.18035131 0.17401961\n",
            " 0.16278595 0.16973039 0.17810458 0.17034314 0.16830065 0.17279412\n",
            " 0.17544935 0.18382353 0.19138072 0.18913399 0.19097222 0.17238562\n",
            " 0.16830065 0.1693219  0.17177288 0.16156046 0.14971405 0.1503268\n",
            " 0.15196078 0.14726307 0.14501634 0.14603758 0.12479575 0.13112745\n",
            " 0.11397059 0.1190768  0.12377451 0.13562092 0.12908497 0.13459967\n",
            " 0.12806373 0.13031046 0.12724673 0.13521242 0.14522059 0.15257353\n",
            " 0.14848856 0.14338235 0.14562908 0.15236928 0.15400327 0.14971405\n",
            " 0.1621732  0.16319444 0.16584967 0.16743809 0.17011692 0.1722583\n",
            " 0.17413737 0.17584969 0.17743438 0.1789193  0.18032923 0.18168488\n",
            " 0.18300194 0.18429129 0.1855596  0.18681036 0.18804459 0.18926202\n",
            " 0.19046153 0.19164188 0.19280186 0.19394074 0.19505823 0.19615443\n",
            " 0.19722986 0.19828527 0.19932155 0.2003396 ]\n",
            "25 day output [[0.20134029]]\n",
            "26 day input [0.18055556 0.17810458 0.17851307 0.19607843 0.18913399 0.18954248\n",
            " 0.19403595 0.19444444 0.20200163 0.19771242 0.19934641 0.19873366\n",
            " 0.1997549  0.2128268  0.21568627 0.20445261 0.21772876 0.21098856\n",
            " 0.21425654 0.19750817 0.18811275 0.17851307 0.17381536 0.16033497\n",
            " 0.16564542 0.17116013 0.17422386 0.18035131 0.17401961 0.16278595\n",
            " 0.16973039 0.17810458 0.17034314 0.16830065 0.17279412 0.17544935\n",
            " 0.18382353 0.19138072 0.18913399 0.19097222 0.17238562 0.16830065\n",
            " 0.1693219  0.17177288 0.16156046 0.14971405 0.1503268  0.15196078\n",
            " 0.14726307 0.14501634 0.14603758 0.12479575 0.13112745 0.11397059\n",
            " 0.1190768  0.12377451 0.13562092 0.12908497 0.13459967 0.12806373\n",
            " 0.13031046 0.12724673 0.13521242 0.14522059 0.15257353 0.14848856\n",
            " 0.14338235 0.14562908 0.15236928 0.15400327 0.14971405 0.1621732\n",
            " 0.16319444 0.16584967 0.16743809 0.17011692 0.1722583  0.17413737\n",
            " 0.17584969 0.17743438 0.1789193  0.18032923 0.18168488 0.18300194\n",
            " 0.18429129 0.1855596  0.18681036 0.18804459 0.18926202 0.19046153\n",
            " 0.19164188 0.19280186 0.19394074 0.19505823 0.19615443 0.19722986\n",
            " 0.19828527 0.19932155 0.2003396  0.20134029]\n",
            "26 day output [[0.20232445]]\n",
            "27 day input [0.17810458 0.17851307 0.19607843 0.18913399 0.18954248 0.19403595\n",
            " 0.19444444 0.20200163 0.19771242 0.19934641 0.19873366 0.1997549\n",
            " 0.2128268  0.21568627 0.20445261 0.21772876 0.21098856 0.21425654\n",
            " 0.19750817 0.18811275 0.17851307 0.17381536 0.16033497 0.16564542\n",
            " 0.17116013 0.17422386 0.18035131 0.17401961 0.16278595 0.16973039\n",
            " 0.17810458 0.17034314 0.16830065 0.17279412 0.17544935 0.18382353\n",
            " 0.19138072 0.18913399 0.19097222 0.17238562 0.16830065 0.1693219\n",
            " 0.17177288 0.16156046 0.14971405 0.1503268  0.15196078 0.14726307\n",
            " 0.14501634 0.14603758 0.12479575 0.13112745 0.11397059 0.1190768\n",
            " 0.12377451 0.13562092 0.12908497 0.13459967 0.12806373 0.13031046\n",
            " 0.12724673 0.13521242 0.14522059 0.15257353 0.14848856 0.14338235\n",
            " 0.14562908 0.15236928 0.15400327 0.14971405 0.1621732  0.16319444\n",
            " 0.16584967 0.16743809 0.17011692 0.1722583  0.17413737 0.17584969\n",
            " 0.17743438 0.1789193  0.18032923 0.18168488 0.18300194 0.18429129\n",
            " 0.1855596  0.18681036 0.18804459 0.18926202 0.19046153 0.19164188\n",
            " 0.19280186 0.19394074 0.19505823 0.19615443 0.19722986 0.19828527\n",
            " 0.19932155 0.2003396  0.20134029 0.20232445]\n",
            "27 day output [[0.20329262]]\n",
            "28 day input [0.17851307 0.19607843 0.18913399 0.18954248 0.19403595 0.19444444\n",
            " 0.20200163 0.19771242 0.19934641 0.19873366 0.1997549  0.2128268\n",
            " 0.21568627 0.20445261 0.21772876 0.21098856 0.21425654 0.19750817\n",
            " 0.18811275 0.17851307 0.17381536 0.16033497 0.16564542 0.17116013\n",
            " 0.17422386 0.18035131 0.17401961 0.16278595 0.16973039 0.17810458\n",
            " 0.17034314 0.16830065 0.17279412 0.17544935 0.18382353 0.19138072\n",
            " 0.18913399 0.19097222 0.17238562 0.16830065 0.1693219  0.17177288\n",
            " 0.16156046 0.14971405 0.1503268  0.15196078 0.14726307 0.14501634\n",
            " 0.14603758 0.12479575 0.13112745 0.11397059 0.1190768  0.12377451\n",
            " 0.13562092 0.12908497 0.13459967 0.12806373 0.13031046 0.12724673\n",
            " 0.13521242 0.14522059 0.15257353 0.14848856 0.14338235 0.14562908\n",
            " 0.15236928 0.15400327 0.14971405 0.1621732  0.16319444 0.16584967\n",
            " 0.16743809 0.17011692 0.1722583  0.17413737 0.17584969 0.17743438\n",
            " 0.1789193  0.18032923 0.18168488 0.18300194 0.18429129 0.1855596\n",
            " 0.18681036 0.18804459 0.18926202 0.19046153 0.19164188 0.19280186\n",
            " 0.19394074 0.19505823 0.19615443 0.19722986 0.19828527 0.19932155\n",
            " 0.2003396  0.20134029 0.20232445 0.20329262]\n",
            "28 day output [[0.20424539]]\n",
            "29 day input [0.19607843 0.18913399 0.18954248 0.19403595 0.19444444 0.20200163\n",
            " 0.19771242 0.19934641 0.19873366 0.1997549  0.2128268  0.21568627\n",
            " 0.20445261 0.21772876 0.21098856 0.21425654 0.19750817 0.18811275\n",
            " 0.17851307 0.17381536 0.16033497 0.16564542 0.17116013 0.17422386\n",
            " 0.18035131 0.17401961 0.16278595 0.16973039 0.17810458 0.17034314\n",
            " 0.16830065 0.17279412 0.17544935 0.18382353 0.19138072 0.18913399\n",
            " 0.19097222 0.17238562 0.16830065 0.1693219  0.17177288 0.16156046\n",
            " 0.14971405 0.1503268  0.15196078 0.14726307 0.14501634 0.14603758\n",
            " 0.12479575 0.13112745 0.11397059 0.1190768  0.12377451 0.13562092\n",
            " 0.12908497 0.13459967 0.12806373 0.13031046 0.12724673 0.13521242\n",
            " 0.14522059 0.15257353 0.14848856 0.14338235 0.14562908 0.15236928\n",
            " 0.15400327 0.14971405 0.1621732  0.16319444 0.16584967 0.16743809\n",
            " 0.17011692 0.1722583  0.17413737 0.17584969 0.17743438 0.1789193\n",
            " 0.18032923 0.18168488 0.18300194 0.18429129 0.1855596  0.18681036\n",
            " 0.18804459 0.18926202 0.19046153 0.19164188 0.19280186 0.19394074\n",
            " 0.19505823 0.19615443 0.19722986 0.19828527 0.19932155 0.2003396\n",
            " 0.20134029 0.20232445 0.20329262 0.20424539]\n",
            "29 day output [[0.20518292]]\n",
            "[[0.1674380898475647], [0.17011691629886627], [0.17225830256938934], [0.17413736879825592], [0.17584969103336334], [0.17743438482284546], [0.17891930043697357], [0.18032923340797424], [0.18168488144874573], [0.18300193548202515], [0.1842912882566452], [0.18555960059165955], [0.18681035935878754], [0.18804459273815155], [0.1892620176076889], [0.19046153128147125], [0.1916418820619583], [0.19280186295509338], [0.19394074380397797], [0.19505822658538818], [0.1961544305086136], [0.19722986221313477], [0.1982852667570114], [0.19932155311107635], [0.20033960044384003], [0.20134028792381287], [0.20232445001602173], [0.2032926231622696], [0.20424538850784302], [0.20518292486667633]]\n"
          ]
        }
      ]
    },
    {
      "cell_type": "code",
      "metadata": {
        "id": "uBaBwtgngm18"
      },
      "source": [
        "day_new = np.arange(1, 101)\n",
        "day_pred = np.arange(101, 131)"
      ],
      "execution_count": 65,
      "outputs": []
    },
    {
      "cell_type": "markdown",
      "metadata": {
        "id": "IWKqGP-hjrV_"
      },
      "source": [
        "### **Plotting Predictions**"
      ]
    },
    {
      "cell_type": "code",
      "metadata": {
        "colab": {
          "base_uri": "https://localhost:8080/",
          "height": 282
        },
        "id": "VXehftcbhJC2",
        "outputId": "e1788f95-f830-4072-d848-784ac27dde7d"
      },
      "source": [
        "plt.plot(day_new, scaler.inverse_transform(df_close[1935:]))\n",
        "plt.plot(day_pred, scaler.inverse_transform(lst_op))"
      ],
      "execution_count": 86,
      "outputs": [
        {
          "output_type": "execute_result",
          "data": {
            "text/plain": [
              "[<matplotlib.lines.Line2D at 0x7f9b9128e090>]"
            ]
          },
          "metadata": {},
          "execution_count": 86
        },
        {
          "output_type": "display_data",
          "data": {
            "image/png": "[encoded data removed]",
            "text/plain": [
              "<Figure size 432x288 with 1 Axes>"
            ]
          },
          "metadata": {
            "needs_background": "light"
          }
        }
      ]
    }
  ]
}